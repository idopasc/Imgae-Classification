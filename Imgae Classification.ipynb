{
  "nbformat": 4,
  "nbformat_minor": 0,
  "metadata": {
    "colab": {
      "provenance": []
    },
    "kernelspec": {
      "name": "python3",
      "display_name": "Python 3"
    },
    "language_info": {
      "name": "python"
    }
  },
  "cells": [
    {
      "cell_type": "markdown",
      "source": [
      ],
      "metadata": {
        "id": "kOjdVhLmB1wl"
      }
    },
    {
      "cell_type": "markdown",
      "source": [
        "#### **FACES data set**\n",
        "The FACES dataset consists of 640 black and white face images of people taken with varying pose (straight, left, right, up), expression (neutral, happy, sad, angry), eyes (wearing sunglasses or not), and size.\n",
        "Each image can be characterized by the pose, expression, eyes, and size. There are 32 images for each person capturing every combination of features.\n"
      ],
      "metadata": {
        "id": "a9s2kZ3QCBKD"
      }
    },
    {
      "cell_type": "code",
      "execution_count": null,
      "metadata": {
        "id": "erIyenNvBMbd"
      },
      "outputs": [],
      "source": [
        "# imports\n",
        "import numpy as np\n",
        "import pandas as pd\n",
        "import matplotlib.pyplot as plt\n",
        "import seaborn as sns\n",
        "import os\n",
        "import cv2\n",
        "import random\n",
        "import tensorflow as tf\n",
        "from tensorflow.keras import models,layers\n",
        "from tensorflow.keras.wrappers.scikit_learn import KerasClassifier\n",
        "from tensorflow import keras\n",
        "from sklearn.model_selection import train_test_split\n",
        "from sklearn.model_selection import GridSearchCV\n",
        "from numpy import argmax\n",
        "from sklearn.metrics import confusion_matrix\n",
        "from sklearn.metrics import classification_report\n",
        "from keras.models import Sequential\n",
        "from keras.layers import Dense, Dropout, Flatten,Conv2D, MaxPooling2D,PReLU\n",
        "from keras.initializers import Constant\n",
        "from keras import backend as K\n",
        "from keras.utils.np_utils import to_categorical\n",
        "from keras.utils import to_categorical, np_utils\n",
        "from sklearn.preprocessing import MinMaxScaler\n",
        "from sklearn.metrics import roc_curve"
      ]
    },
    {
      "cell_type": "code",
      "source": [
        "import os\n",
        "# Create a new folder called \"Sunglasses\" inside the \"Data\" folder\n",
        "sg_folder = os.path.join('Data', 'Sunglasses')\n",
        "no_sg_folder = os.path.join('Data', 'NoSunglasses')\n",
        "\n",
        "os.makedirs(sg_folder, exist_ok=True)\n",
        "os.makedirs(no_sg_folder, exist_ok=True)"
      ],
      "metadata": {
        "id": "bjqTy5ESOu9E"
      },
      "execution_count": null,
      "outputs": []
    },
    {
      "cell_type": "code",
      "source": [
        "# Loading the data into environment\n",
        "IMG_WIDTH=32\n",
        "IMG_HEIGHT=30\n",
        "IMG_FOLDER=r'Data/'\n",
        "def create_dataset(img_folder):\n",
        "  img_data_array=[]\n",
        "  class_name=[]\n",
        "  for dir1 in os.listdir(img_folder):\n",
        "    for file in os.listdir(os.path.join(img_folder, dir1)):\n",
        "      image_path = os.path.join(img_folder, dir1, file)\n",
        "      image = cv2.imread( image_path, cv2.COLOR_BGR2RGB)\n",
        "      image = cv2.resize(image, (IMG_HEIGHT, IMG_WIDTH),\n",
        "                         interpolation = cv2.INTER_AREA)\n",
        "      image = np.array(image)\n",
        "      image = image.astype('float32')\n",
        "      image /= 255\n",
        "      img_data_array.append(image)\n",
        "      class_name.append(dir1)\n",
        "  return img_data_array, class_name\n",
        "\n",
        "# Extract the image array and class name\n",
        "img_data, class_name = create_dataset(IMG_FOLDER)\n",
        "target_dict = {k: v for v, k in enumerate(np.unique(class_name))}\n",
        "\n",
        "# Convert the class_names to their respective numeric value based on the dictionary\n",
        "target_val = [target_dict[class_name[i]] for i in range(len(class_name))]\n",
        "\n",
        "# Convert to X - a 3d array (samples, width, height) and y - 0/1\n",
        "X = tf.cast(np.array(img_data), tf.float64)\n",
        "y = tf.cast(list(map(int,target_val)),tf.int32)"
      ],
      "metadata": {
        "id": "y3NZlQf8FJge"
      },
      "execution_count": null,
      "outputs": []
    },
    {
      "cell_type": "markdown",
      "source": [
        "#### Splitting into train and test set\n"
      ],
      "metadata": {
        "id": "EUdj_5g3SK_i"
      }
    },
    {
      "cell_type": "code",
      "source": [
        "X_train, X_test, y_train, y_test = train_test_split(X.numpy(), y.numpy(), test_size=0.15, random_state=42)\n",
        "print('The Dataset size:',len(X.numpy()))\n",
        "print('Number of images in training set:',len(X_train))\n",
        "print('Number of images in test set:',len(X_test))\n",
        "print('Image size is:',X_train[0].shape)"
      ],
      "metadata": {
        "id": "DqlCS3DMCAnI",
        "colab": {
          "base_uri": "https://localhost:8080/"
        },
        "outputId": "0f64cf23-d9b0-4a15-e901-bef10f16b7d1"
      },
      "execution_count": null,
      "outputs": [
        {
          "output_type": "stream",
          "name": "stdout",
          "text": [
            "The Dataset size: 624\n",
            "Number of images in training set: 530\n",
            "Number of images in test set: 94\n",
            "Image size is: (32, 30)\n"
          ]
        }
      ]
    },
    {
      "cell_type": "markdown",
      "source": [
        "#### Plotting"
      ],
      "metadata": {
        "id": "fMfGI1h1ZZ3i"
      }
    },
    {
      "cell_type": "code",
      "source": [
        "# Example of an image of the class 'NoSunglasses'\n",
        "class_names = np.unique(np.array(class_name))  # ['Sunglasses', 'NoSunglasses']\n",
        "\n",
        "plt.figure(figsize=(5,2))\n",
        "plt.imshow(X_train[1])\n",
        "plt.xlabel(class_names[y_train[1]])\n",
        "plt.show()"
      ],
      "metadata": {
        "colab": {
          "base_uri": "https://localhost:8080/",
          "height": 173
        },
        "id": "3Ji86ktlVZek",
        "outputId": "3fba19f8-117f-409f-a7ee-4a5540de563c"
      },
      "execution_count": null,
      "outputs": [
        {
          "output_type": "display_data",
          "data": {
            "text/plain": [
              "<Figure size 360x144 with 1 Axes>"
            ],
            "image/png": "[encoded data removed]"
          },
          "metadata": {
            "needs_background": "light"
          }
        }
      ]
    },
    {
      "cell_type": "markdown",
      "source": [
        "Example of an image of the class 'NoSunglasses'\n"
      ],
      "metadata": {
        "id": "cD3WkAW2ZHMv"
      }
    },
    {
      "cell_type": "code",
      "source": [
        "# Example of an image of the class 'Sunglasses'\n",
        "plt.figure(figsize=(5,2))\n",
        "plt.imshow(X_train[55])\n",
        "plt.xlabel(class_names[y_train[55]])\n",
        "plt.show()"
      ],
      "metadata": {
        "colab": {
          "base_uri": "https://localhost:8080/",
          "height": 173
        },
        "id": "7uIK9KAHYhGL",
        "outputId": "7dfdc76b-806a-4e8c-cf18-32c088feb402"
      },
      "execution_count": null,
      "outputs": [
        {
          "output_type": "display_data",
          "data": {
            "text/plain": [
              "<Figure size 360x144 with 1 Axes>"
            ],
            "image/png": "[encoded data removed]"
          },
          "metadata": {
            "needs_background": "light"
          }
        }
      ]
    },
    {
      "cell_type": "markdown",
      "source": [
        "Example of an image of the class 'Sunglasses'\n"
      ],
      "metadata": {
        "id": "2H80j3OFZTD6"
      }
    },
    {
      "cell_type": "markdown",
      "source": [
        "#### Preprocessing - transforming and scaling the data \n",
        "\n",
        "\n"
      ],
      "metadata": {
        "id": "ZL4Lrh3htq-4"
      }
    },
    {
      "cell_type": "code",
      "source": [
        "class MinMaxScaler3D(MinMaxScaler):\n",
        "    def fit_transform(self, X, y=None):\n",
        "        x = np.reshape(X, newshape=(X.shape[0]*X.shape[1], X.shape[2]))\n",
        "        return np.reshape(super().fit_transform(x, y=y), newshape=X.shape)"
      ],
      "metadata": {
        "id": "D3UoPHFnldbA"
      },
      "execution_count": null,
      "outputs": []
    },
    {
      "cell_type": "code",
      "source": [
        "scaler = MinMaxScaler3D()\n",
        "X_train = scaler.fit_transform(X_train)\n",
        "X_test = scaler.fit_transform(X_test)"
      ],
      "metadata": {
        "id": "9U8gMKIYmZ36"
      },
      "execution_count": null,
      "outputs": []
    },
    {
      "cell_type": "markdown",
      "source": [
        "#### Search for optimal hyperparameters\n",
        "We will define the convolutional basis using a stack of Conv2D and MaxPooling2D layers. As input, CNN accepts shape tensors (image_height, image_width, color_channels), where color_channels refers to (R,G,B). We will configure our CNN to process an input of shape (32, 30, 3)."
      ],
      "metadata": {
        "id": "WHm6LxNGaQ2y"
      }
    },
    {
      "cell_type": "code",
      "source": [
        "def cnn(optimizer):\n",
        "  # Inpute shape (image_height, image_width, color_channels)\n",
        "  input_shape = X_train[0].shape\n",
        "  input_shape = (input_shape[0], input_shape[1], 1)\n",
        "\n",
        "  # Create convolutional base\n",
        "  model = models.Sequential()\n",
        "  model.add(layers.Conv2D(filters=32, kernel_size=(3, 3), activation='relu', padding='same' ,input_shape=input_shape))\n",
        "  model.add(layers.MaxPooling2D(pool_size=(2, 2)))\n",
        "  model.add(layers.Conv2D(filters=64, kernel_size=(3, 3), activation='relu', padding='same'))\n",
        "  model.add(layers.MaxPooling2D(pool_size=(2, 2)))\n",
        "  model.add(layers.Conv2D(filters=64, kernel_size=(3, 3), activation='relu', padding='same'))\n",
        "\n",
        "  # Add dense layer on top\n",
        "  model.add(layers.Flatten())\n",
        "  model.add(layers.Dense(64, activation='relu'))\n",
        "  model.add(layers.Dense(2, activation='softmax'))\n",
        "\n",
        "# Compile and train the model\n",
        "  model.compile(optimizer=optimizer, loss='sparse_categorical_crossentropy', metrics=['accuracy'])\n",
        "  return model"
      ],
      "metadata": {
        "id": "_3YGO9x_aI_H"
      },
      "execution_count": null,
      "outputs": []
    },
    {
      "cell_type": "code",
      "source": [
        "model = KerasClassifier(build_fn=cnn, verbose=1)\n",
        "\n",
        "# The grid search hyperparameters\n",
        "batch_size = [16, 32, 64]\n",
        "# learn_rate = [0.001, 0.01, 0.1]\n",
        "# epochs = [10, 20, 30],\n",
        "optimizer = ['Adam', 'SGD', 'RMSprop']\n",
        "\n",
        "param_grid = dict(batch_size=batch_size, epochs=[10, 20, 30], optimizer=optimizer)\n",
        "grid_search = GridSearchCV(estimator=model, param_grid=param_grid,n_jobs=-1,  cv=3)\n",
        "result = grid_search.fit(X_train, y_train)\n",
        "print(\"\")\n",
        "print(\"The best combination of hyper parameters is: \",grid_search.best_params_, \"whose score is: \",grid_search.best_score_)"
      ],
      "metadata": {
        "colab": {
          "base_uri": "https://localhost:8080/"
        },
        "id": "YUxPHK_zhDQ4",
        "outputId": "350c166a-97e7-427b-d318-71cec42e8d3e"
      },
      "execution_count": null,
      "outputs": [
        {
          "output_type": "stream",
          "name": "stderr",
          "text": [
            "<ipython-input-14-db017d81518d>:1: DeprecationWarning: KerasClassifier is deprecated, use Sci-Keras (https://github.com/adriangb/scikeras) instead. See https://www.adriangb.com/scikeras/stable/migration.html for help migrating.\n",
            "  model = KerasClassifier(build_fn=cnn, verbose=1)\n"
          ]
        },
        {
          "output_type": "stream",
          "name": "stdout",
          "text": [
            "Epoch 1/30\n",
            "17/17 [==============================] - 1s 38ms/step - loss: 0.7592 - accuracy: 0.5057\n",
            "Epoch 2/30\n",
            "17/17 [==============================] - 1s 38ms/step - loss: 0.6649 - accuracy: 0.6453\n",
            "Epoch 3/30\n",
            "17/17 [==============================] - 1s 37ms/step - loss: 0.5203 - accuracy: 0.7604\n",
            "Epoch 4/30\n",
            "17/17 [==============================] - 1s 37ms/step - loss: 0.3973 - accuracy: 0.8132\n",
            "Epoch 5/30\n",
            "17/17 [==============================] - 1s 39ms/step - loss: 0.3342 - accuracy: 0.8509\n",
            "Epoch 6/30\n",
            "17/17 [==============================] - 1s 37ms/step - loss: 0.2410 - accuracy: 0.9170\n",
            "Epoch 7/30\n",
            "17/17 [==============================] - 1s 36ms/step - loss: 0.1999 - accuracy: 0.9245\n",
            "Epoch 8/30\n",
            "17/17 [==============================] - 1s 36ms/step - loss: 0.1903 - accuracy: 0.9340\n",
            "Epoch 9/30\n",
            "17/17 [==============================] - 1s 36ms/step - loss: 0.1412 - accuracy: 0.9509\n",
            "Epoch 10/30\n",
            "17/17 [==============================] - 1s 37ms/step - loss: 0.1480 - accuracy: 0.9415\n",
            "Epoch 11/30\n",
            "17/17 [==============================] - 1s 37ms/step - loss: 0.0784 - accuracy: 0.9792\n",
            "Epoch 12/30\n",
            "17/17 [==============================] - 1s 36ms/step - loss: 0.0665 - accuracy: 0.9755\n",
            "Epoch 13/30\n",
            "17/17 [==============================] - 1s 37ms/step - loss: 0.0629 - accuracy: 0.9792\n",
            "Epoch 14/30\n",
            "17/17 [==============================] - 1s 36ms/step - loss: 0.0550 - accuracy: 0.9774\n",
            "Epoch 15/30\n",
            "17/17 [==============================] - 1s 37ms/step - loss: 0.0215 - accuracy: 0.9943\n",
            "Epoch 16/30\n",
            "17/17 [==============================] - 1s 60ms/step - loss: 0.0556 - accuracy: 0.9792\n",
            "Epoch 17/30\n",
            "17/17 [==============================] - 1s 62ms/step - loss: 0.0417 - accuracy: 0.9849\n",
            "Epoch 18/30\n",
            "17/17 [==============================] - 1s 38ms/step - loss: 0.0276 - accuracy: 0.9906\n",
            "Epoch 19/30\n",
            "17/17 [==============================] - 1s 36ms/step - loss: 0.0375 - accuracy: 0.9811\n",
            "Epoch 20/30\n",
            "17/17 [==============================] - 1s 37ms/step - loss: 0.0107 - accuracy: 0.9981\n",
            "Epoch 21/30\n",
            "17/17 [==============================] - 1s 37ms/step - loss: 0.0331 - accuracy: 0.9849\n",
            "Epoch 22/30\n",
            "17/17 [==============================] - 1s 36ms/step - loss: 0.0046 - accuracy: 1.0000\n",
            "Epoch 23/30\n",
            "17/17 [==============================] - 1s 37ms/step - loss: 0.0057 - accuracy: 1.0000\n",
            "Epoch 24/30\n",
            "17/17 [==============================] - 1s 36ms/step - loss: 0.0107 - accuracy: 0.9962\n",
            "Epoch 25/30\n",
            "17/17 [==============================] - 1s 37ms/step - loss: 9.8912e-04 - accuracy: 1.0000\n",
            "Epoch 26/30\n",
            "17/17 [==============================] - 1s 36ms/step - loss: 0.0463 - accuracy: 0.9868\n",
            "Epoch 27/30\n",
            "17/17 [==============================] - 1s 36ms/step - loss: 0.0027 - accuracy: 1.0000\n",
            "Epoch 28/30\n",
            "17/17 [==============================] - 1s 37ms/step - loss: 0.0013 - accuracy: 1.0000\n",
            "Epoch 29/30\n",
            "17/17 [==============================] - 1s 37ms/step - loss: 3.5739e-04 - accuracy: 1.0000\n",
            "Epoch 30/30\n",
            "17/17 [==============================] - 1s 36ms/step - loss: 0.0302 - accuracy: 0.9906\n",
            "\n",
            "The best combination of hyper parameters is:  {'batch_size': 32, 'epochs': 30, 'optimizer': 'RMSprop'} whose score is:  0.9754750927289327\n"
          ]
        }
      ]
    },
    {
      "cell_type": "markdown",
      "source": [
        "#### Creating convolutional base"
      ],
      "metadata": {
        "id": "YIgGHa7PcBOD"
      }
    },
    {
      "cell_type": "code",
      "source": [
        "input_shape = X_train[0].shape\n",
        "input_shape = (input_shape[0], input_shape[1], 1)\n",
        "\n",
        "# Create convolutional base\n",
        "model = models.Sequential()\n",
        "model.add(layers.Conv2D(filters=32, kernel_size=(3, 3), activation='relu', input_shape=input_shape))\n",
        "model.add(layers.MaxPooling2D(pool_size=(2, 2)))\n",
        "model.add(Dropout(0.3))\n",
        "model.add(layers.Conv2D(filters=64, kernel_size=(3, 3), activation='relu'))\n",
        "model.add(layers.MaxPooling2D(pool_size=(2, 2)))\n",
        "model.add(Dropout(0.3))\n",
        "model.add(layers.Conv2D(filters=64, kernel_size=(3, 3), activation='relu'))"
      ],
      "metadata": {
        "id": "4GW1MzeL-DHZ"
      },
      "execution_count": null,
      "outputs": []
    },
    {
      "cell_type": "markdown",
      "source": [
        "#### Display architecture\n"
      ],
      "metadata": {
        "id": "Q4pW2Xp6cJX_"
      }
    },
    {
      "cell_type": "code",
      "source": [
        "model.summary()"
      ],
      "metadata": {
        "colab": {
          "base_uri": "https://localhost:8080/"
        },
        "id": "UhUqQcaM-YA2",
        "outputId": "3449be6a-b94a-428d-eaf2-e57de73d19fb"
      },
      "execution_count": null,
      "outputs": [
        {
          "output_type": "stream",
          "name": "stdout",
          "text": [
            "Model: \"sequential_1\"\n",
            "_________________________________________________________________\n",
            " Layer (type)                Output Shape              Param #   \n",
            "=================================================================\n",
            " conv2d_3 (Conv2D)           (None, 30, 28, 32)        320       \n",
            "                                                                 \n",
            " max_pooling2d_2 (MaxPooling  (None, 15, 14, 32)       0         \n",
            " 2D)                                                             \n",
            "                                                                 \n",
            " dropout (Dropout)           (None, 15, 14, 32)        0         \n",
            "                                                                 \n",
            " conv2d_4 (Conv2D)           (None, 13, 12, 64)        18496     \n",
            "                                                                 \n",
            " max_pooling2d_3 (MaxPooling  (None, 6, 6, 64)         0         \n",
            " 2D)                                                             \n",
            "                                                                 \n",
            " dropout_1 (Dropout)         (None, 6, 6, 64)          0         \n",
            "                                                                 \n",
            " conv2d_5 (Conv2D)           (None, 4, 4, 64)          36928     \n",
            "                                                                 \n",
            "=================================================================\n",
            "Total params: 55,744\n",
            "Trainable params: 55,744\n",
            "Non-trainable params: 0\n",
            "_________________________________________________________________\n"
          ]
        }
      ]
    },
    {
      "cell_type": "markdown",
      "source": [
        "The width and height dimensions tend to shrink as we go deeper in the network. "
      ],
      "metadata": {
        "id": "8RAJNAIubawM"
      }
    },
    {
      "cell_type": "markdown",
      "source": [
        "#### Adding dense layer on top\n",
        "To complete our model, we will feed the last output tensor from the convolutional base (of shape (3, 3, 64)) into one or more dense layers to perform classification.\n",
        "\n",
        "Dense layers take vectors as input (which are 1D), while the current output is a 3D tensor.\n",
        "First, we will flatten the 3D output to 1D vector.\n",
        "After that, we will add one or more dense layers on top."
      ],
      "metadata": {
        "id": "aYOdaQMzb1eD"
      }
    },
    {
      "cell_type": "code",
      "source": [
        "#Flattening the 3d Variable to 1d\n",
        "model.add(layers.Flatten())\n",
        "model.add(layers.Dense(64, activation='relu'))\n",
        "model.add(layers.Dense(2, activation='softmax'))\n",
        "model.summary()"
      ],
      "metadata": {
        "colab": {
          "base_uri": "https://localhost:8080/"
        },
        "id": "BsRW1lIt-ZY6",
        "outputId": "6dc300b3-01d3-4d74-bf8c-21f390ee7d9d"
      },
      "execution_count": null,
      "outputs": [
        {
          "output_type": "stream",
          "name": "stdout",
          "text": [
            "Model: \"sequential_1\"\n",
            "_________________________________________________________________\n",
            " Layer (type)                Output Shape              Param #   \n",
            "=================================================================\n",
            " conv2d_3 (Conv2D)           (None, 30, 28, 32)        320       \n",
            "                                                                 \n",
            " max_pooling2d_2 (MaxPooling  (None, 15, 14, 32)       0         \n",
            " 2D)                                                             \n",
            "                                                                 \n",
            " dropout (Dropout)           (None, 15, 14, 32)        0         \n",
            "                                                                 \n",
            " conv2d_4 (Conv2D)           (None, 13, 12, 64)        18496     \n",
            "                                                                 \n",
            " max_pooling2d_3 (MaxPooling  (None, 6, 6, 64)         0         \n",
            " 2D)                                                             \n",
            "                                                                 \n",
            " dropout_1 (Dropout)         (None, 6, 6, 64)          0         \n",
            "                                                                 \n",
            " conv2d_5 (Conv2D)           (None, 4, 4, 64)          36928     \n",
            "                                                                 \n",
            " flatten_1 (Flatten)         (None, 1024)              0         \n",
            "                                                                 \n",
            " dense_2 (Dense)             (None, 64)                65600     \n",
            "                                                                 \n",
            " dense_3 (Dense)             (None, 2)                 130       \n",
            "                                                                 \n",
            "=================================================================\n",
            "Total params: 121,474\n",
            "Trainable params: 121,474\n",
            "Non-trainable params: 0\n",
            "_________________________________________________________________\n"
          ]
        }
      ]
    },
    {
      "cell_type": "markdown",
      "source": [
        "#### Compile and train the model"
      ],
      "metadata": {
        "id": "RVZu51LgdOj4"
      }
    },
    {
      "cell_type": "code",
      "source": [
        "# Compile and train the model\n",
        "model.compile(optimizer='adam',\n",
        "              loss='sparse_categorical_crossentropy',\n",
        "              metrics=['accuracy'])\n",
        "\n",
        "history = model.fit(X_train, y_train,\n",
        "          batch_size= grid_search.best_params_['batch_size'],\n",
        "          epochs= grid_search.best_params_['epochs'],\n",
        "          validation_data=(X_test,  y_test))"
      ],
      "metadata": {
        "colab": {
          "base_uri": "https://localhost:8080/"
        },
        "id": "B09EhVM2-q6S",
        "outputId": "68b6fa0b-72c3-415c-aa09-05084832c8a8"
      },
      "execution_count": null,
      "outputs": [
        {
          "output_type": "stream",
          "name": "stdout",
          "text": [
            "Epoch 1/30\n",
            "17/17 [==============================] - 1s 48ms/step - loss: 0.6908 - accuracy: 0.5547 - val_loss: 0.6807 - val_accuracy: 0.5851\n",
            "Epoch 2/30\n",
            "17/17 [==============================] - 1s 67ms/step - loss: 0.6600 - accuracy: 0.6528 - val_loss: 0.6319 - val_accuracy: 0.6277\n",
            "Epoch 3/30\n",
            "17/17 [==============================] - 1s 36ms/step - loss: 0.6078 - accuracy: 0.6811 - val_loss: 0.5530 - val_accuracy: 0.7553\n",
            "Epoch 4/30\n",
            "17/17 [==============================] - 0s 29ms/step - loss: 0.5101 - accuracy: 0.7623 - val_loss: 0.4396 - val_accuracy: 0.7979\n",
            "Epoch 5/30\n",
            "17/17 [==============================] - 1s 31ms/step - loss: 0.4284 - accuracy: 0.8245 - val_loss: 0.3832 - val_accuracy: 0.8723\n",
            "Epoch 6/30\n",
            "17/17 [==============================] - 1s 29ms/step - loss: 0.3600 - accuracy: 0.8547 - val_loss: 0.3286 - val_accuracy: 0.9043\n",
            "Epoch 7/30\n",
            "17/17 [==============================] - 1s 31ms/step - loss: 0.3549 - accuracy: 0.8377 - val_loss: 0.2614 - val_accuracy: 0.9149\n",
            "Epoch 8/30\n",
            "17/17 [==============================] - 1s 30ms/step - loss: 0.2569 - accuracy: 0.9038 - val_loss: 0.2393 - val_accuracy: 0.9468\n",
            "Epoch 9/30\n",
            "17/17 [==============================] - 1s 31ms/step - loss: 0.2221 - accuracy: 0.9075 - val_loss: 0.1871 - val_accuracy: 0.9362\n",
            "Epoch 10/30\n",
            "17/17 [==============================] - 1s 29ms/step - loss: 0.1869 - accuracy: 0.9226 - val_loss: 0.1776 - val_accuracy: 0.9468\n",
            "Epoch 11/30\n",
            "17/17 [==============================] - 1s 30ms/step - loss: 0.1555 - accuracy: 0.9340 - val_loss: 0.1450 - val_accuracy: 0.9681\n",
            "Epoch 12/30\n",
            "17/17 [==============================] - 1s 30ms/step - loss: 0.1440 - accuracy: 0.9415 - val_loss: 0.1548 - val_accuracy: 0.9362\n",
            "Epoch 13/30\n",
            "17/17 [==============================] - 1s 30ms/step - loss: 0.1227 - accuracy: 0.9585 - val_loss: 0.1128 - val_accuracy: 0.9574\n",
            "Epoch 14/30\n",
            "17/17 [==============================] - 1s 30ms/step - loss: 0.0982 - accuracy: 0.9604 - val_loss: 0.1048 - val_accuracy: 0.9787\n",
            "Epoch 15/30\n",
            "17/17 [==============================] - 1s 30ms/step - loss: 0.0723 - accuracy: 0.9736 - val_loss: 0.1402 - val_accuracy: 0.9149\n",
            "Epoch 16/30\n",
            "17/17 [==============================] - 1s 31ms/step - loss: 0.1000 - accuracy: 0.9604 - val_loss: 0.1075 - val_accuracy: 0.9681\n",
            "Epoch 17/30\n",
            "17/17 [==============================] - 1s 30ms/step - loss: 0.0811 - accuracy: 0.9736 - val_loss: 0.0914 - val_accuracy: 0.9574\n",
            "Epoch 18/30\n",
            "17/17 [==============================] - 0s 29ms/step - loss: 0.0695 - accuracy: 0.9755 - val_loss: 0.0759 - val_accuracy: 0.9787\n",
            "Epoch 19/30\n",
            "17/17 [==============================] - 1s 30ms/step - loss: 0.0609 - accuracy: 0.9811 - val_loss: 0.0720 - val_accuracy: 0.9787\n",
            "Epoch 20/30\n",
            "17/17 [==============================] - 1s 30ms/step - loss: 0.0459 - accuracy: 0.9868 - val_loss: 0.0715 - val_accuracy: 0.9787\n",
            "Epoch 21/30\n",
            "17/17 [==============================] - 0s 29ms/step - loss: 0.0343 - accuracy: 0.9906 - val_loss: 0.0826 - val_accuracy: 0.9574\n",
            "Epoch 22/30\n",
            "17/17 [==============================] - 0s 29ms/step - loss: 0.0676 - accuracy: 0.9755 - val_loss: 0.0941 - val_accuracy: 0.9574\n",
            "Epoch 23/30\n",
            "17/17 [==============================] - 0s 29ms/step - loss: 0.0551 - accuracy: 0.9811 - val_loss: 0.0598 - val_accuracy: 0.9787\n",
            "Epoch 24/30\n",
            "17/17 [==============================] - 0s 29ms/step - loss: 0.0360 - accuracy: 0.9887 - val_loss: 0.0547 - val_accuracy: 0.9894\n",
            "Epoch 25/30\n",
            "17/17 [==============================] - 0s 28ms/step - loss: 0.0283 - accuracy: 0.9925 - val_loss: 0.0742 - val_accuracy: 0.9681\n",
            "Epoch 26/30\n",
            "17/17 [==============================] - 1s 31ms/step - loss: 0.0253 - accuracy: 0.9925 - val_loss: 0.0511 - val_accuracy: 0.9787\n",
            "Epoch 27/30\n",
            "17/17 [==============================] - 0s 29ms/step - loss: 0.0256 - accuracy: 0.9887 - val_loss: 0.0422 - val_accuracy: 0.9894\n",
            "Epoch 28/30\n",
            "17/17 [==============================] - 0s 29ms/step - loss: 0.0224 - accuracy: 0.9906 - val_loss: 0.0644 - val_accuracy: 0.9681\n",
            "Epoch 29/30\n",
            "17/17 [==============================] - 1s 30ms/step - loss: 0.0330 - accuracy: 0.9849 - val_loss: 0.0449 - val_accuracy: 0.9894\n",
            "Epoch 30/30\n",
            "17/17 [==============================] - 1s 31ms/step - loss: 0.0333 - accuracy: 0.9849 - val_loss: 0.0579 - val_accuracy: 0.9787\n"
          ]
        }
      ]
    },
    {
      "cell_type": "code",
      "source": [
        "# we got only two classes - with sunglasses and without sunglasses\n",
        "def ex_association(model):\n",
        "  class_preds = []\n",
        "  MLE_predictions = model.predict(X_test)\n",
        "  for sample in range(len(MLE_predictions)):\n",
        "    if MLE_predictions[sample][0] < MLE_predictions[sample][1]:\n",
        "      class_preds.append(1)\n",
        "    else:\n",
        "      class_preds.append(0)\n",
        "  return class_preds"
      ],
      "metadata": {
        "id": "_qvLalMpFTpk"
      },
      "execution_count": null,
      "outputs": []
    },
    {
      "cell_type": "code",
      "source": [
        "# The data distribution\n",
        "with_glass, without_glass = 0, 0\n",
        "l = class_name\n",
        "for i in range(len(class_name)):\n",
        "  if class_name[i] == \"Sunglasses\":\n",
        "    with_glass +=1\n",
        "  else:\n",
        "    without_glass +=1\n",
        "print(\"The percentage of people with glasses in the data are:\" ,round(with_glass/len(class_name),3))\n",
        "print(\"The percentage of people without glasses in the data are:\" ,round(without_glass/len(class_name),3))"
      ],
      "metadata": {
        "colab": {
          "base_uri": "https://localhost:8080/"
        },
        "id": "Gaw7wf4oKo71",
        "outputId": "950331b9-835a-4216-efc7-fe84e91e4699"
      },
      "execution_count": null,
      "outputs": [
        {
          "output_type": "stream",
          "name": "stdout",
          "text": [
            "The percentage of people with glasses in the data are: 0.498\n",
            "The percentage of people without glasses in the data are: 0.502\n"
          ]
        }
      ]
    },
    {
      "cell_type": "markdown",
      "source": [
        "# Evaluating the model"
      ],
      "metadata": {
        "id": "HCbCMf2rbrT1"
      }
    },
    {
      "cell_type": "markdown",
      "source": [
        "### Learning Curve"
      ],
      "metadata": {
        "id": "cYYcOSFNwZCR"
      }
    },
    {
      "cell_type": "code",
      "source": [
        "plt.plot(history.history['accuracy'], label='accuracy')\n",
        "plt.plot(history.history['val_accuracy'], label = 'validation_accuracy')\n",
        "plt.xlabel('Epoch')\n",
        "plt.ylabel('Accuracy')\n",
        "plt.ylim([0.5, 1])\n",
        "plt.legend(loc='lower right')\n",
        "\n",
        "test_loss, test_acc = model.evaluate(X_test,  y_test, verbose=2)"
      ],
      "metadata": {
        "colab": {
          "base_uri": "https://localhost:8080/",
          "height": 300
        },
        "id": "phXRVvJf-yxe",
        "outputId": "b5b7a4b8-432c-4a10-8e6a-93846827d2ce"
      },
      "execution_count": null,
      "outputs": [
        {
          "output_type": "stream",
          "name": "stdout",
          "text": [
            "3/3 - 0s - loss: 0.0579 - accuracy: 0.9787 - 37ms/epoch - 12ms/step\n"
          ]
        },
        {
          "output_type": "display_data",
          "data": {
            "text/plain": [
              "<Figure size 432x288 with 1 Axes>"
            ],
            "image/png": "[encoded data removed]"
          },
          "metadata": {
            "needs_background": "light"
          }
        }
      ]
    },
    {
      "cell_type": "code",
      "source": [
        "y_pred = ex_association(model)\n",
        "target_names = ['class 0', 'class 1']\n",
        "print(classification_report(y_test, y_pred,target_names=target_names))"
      ],
      "metadata": {
        "colab": {
          "base_uri": "https://localhost:8080/"
        },
        "id": "uv6TubHUDsRv",
        "outputId": "36295e6f-737c-4fe0-d9f8-1e8e34d3527a"
      },
      "execution_count": null,
      "outputs": [
        {
          "output_type": "stream",
          "name": "stdout",
          "text": [
            "3/3 [==============================] - 0s 13ms/step\n",
            "              precision    recall  f1-score   support\n",
            "\n",
            "     class 0       0.96      1.00      0.98        43\n",
            "     class 1       1.00      0.96      0.98        51\n",
            "\n",
            "    accuracy                           0.98        94\n",
            "   macro avg       0.98      0.98      0.98        94\n",
            "weighted avg       0.98      0.98      0.98        94\n",
            "\n"
          ]
        }
      ]
    },
    {
      "cell_type": "markdown",
      "source": [
        "### Confusion matrix"
      ],
      "metadata": {
        "id": "A2OCbyf4wgas"
      }
    },
    {
      "cell_type": "code",
      "source": [
        "conf_mat = confusion_matrix(y_test, y_pred)\n",
        "sns.heatmap(conf_mat/np.sum(conf_mat), annot=True, \n",
        "            fmt='.3%', cmap='YlGn')"
      ],
      "metadata": {
        "colab": {
          "base_uri": "https://localhost:8080/",
          "height": 282
        },
        "id": "FpcYitPKHn-5",
        "outputId": "30d48f60-b8e0-4808-c0a8-81687e59633a"
      },
      "execution_count": null,
      "outputs": [
        {
          "output_type": "execute_result",
          "data": {
            "text/plain": [
              "<matplotlib.axes._subplots.AxesSubplot at 0x7fb561511f10>"
            ]
          },
          "metadata": {},
          "execution_count": 25
        },
        {
          "output_type": "display_data",
          "data": {
            "text/plain": [
              "<Figure size 432x288 with 2 Axes>"
            ],
            "image/png": "[encoded data removed]"
          },
          "metadata": {
            "needs_background": "light"
          }
        }
      ]
    },
    {
      "cell_type": "markdown",
      "source": [
        "#### ROC Curve"
      ],
      "metadata": {
        "id": "wLLoIOvMvVVA"
      }
    },
    {
      "cell_type": "code",
      "source": [
        "fpr, tpr, _ = roc_curve(y_test, y_pred)\n",
        "plt.plot(fpr, tpr)\n",
        "plt.xlabel('False Positive Rate')\n",
        "plt.ylabel('True Positive Rate')\n",
        "plt.title('ROC Curve')\n",
        "plt.show()"
      ],
      "metadata": {
        "colab": {
          "base_uri": "https://localhost:8080/",
          "height": 295
        },
        "id": "0DN4v2lXuOjy",
        "outputId": "da50ef79-80a8-40ed-ec26-265fa174e265"
      },
      "execution_count": null,
      "outputs": [
        {
          "output_type": "display_data",
          "data": {
            "text/plain": [
              "<Figure size 432x288 with 1 Axes>"
            ],
            "image/png": "[encoded data removed]"
          },
          "metadata": {
            "needs_background": "light"
          }
        }
      ]
    },
    {
      "cell_type": "markdown",
      "source": [
        "######It can be seen that the AUC index gives almost perfect results (converge to 1) under almost completely balanced information, which shows the model's very good learning of the data."
      ],
      "metadata": {
        "id": "Ihfe2I-Wvd1Z"
      }
    },
    {
      "cell_type": "markdown",
      "source": [
        "**Question 1: Does the model overfit?**\n",
        "\n",
        "Answer:Looking at the learning curve graph, it can be seen that our model is not overfit. The training set returns a very high accuracy and it can be thought that the model tends to overfit. However, we can see that the validation set also returns a correspondingly high accuracy. The accuracy of the training set and validation increases in a similar way, while in models that are overfit there is a gap between the accuracy of the training set which is usually high, and accuracy on the validation set which is lower. Therefore, we can conclude that the model will return very good results even on data that it has not yet seen, i.e., the generalization error will be small and therefore the model will not overfit.\n",
        "\n"
      ],
      "metadata": {
        "id": "xLHkigWEckH-"
      }
    },
    {
      "cell_type": "markdown",
      "source": [
        "**Question 2:**\n",
        "**What's the effect of batch size? In general, do you see this effect in the current task?**\n",
        "\n",
        "Answer:\n",
        "The batch size is a hyperparameter that determines the number of samples to work through before updating the internal model parameters. A larger batch size will typically result in a more stable gradient update, but may also require more run time and memory. However, a smaller batch size may result in a noisy gradient update, but may require less memory and computation power. Thus, there is a trade-off between run time and stability of convergence (in the help of the gradient updates).\n",
        "In our model, after performing GridSearchCV, we got that the optimal batch size (of the values we tested) is 'batch_size' = 32.\n",
        "\n",
        "On the other hand, a smaller batch size means that the model will process fewer samples at once, which can lead to slower training times. However, it also means that the model will update its weights more frequently, which can lead to a more accurate model if the batch size is not too small.\n",
        "\n",
        "In our model, because the batch size is relatively small, you can see that the relatively frequent updating of the weights of our model causes a good job in reducing the loss and therefore, shows high accuracy also on the test set.\n",
        "It can be said that it shows a general case of low bias low varianve which is excellent from our point of view. It is clear that this is our ambition."
      ],
      "metadata": {
        "id": "s-zUStfTgfD1"
      }
    },
    {
      "cell_type": "markdown",
      "source": [
        "**Question 3: What was the optimal optimizer? Explain.**\n",
        "\n",
        "Answer:\n",
        "We performed grid search in order to find the best combination of hyperparameter values that results in the best performance of accuracy. We discovered that the optimal optimizer from the set of possible values is 'RMSprop' optimizer, which the combination of him and 'batch_size' = 32, 'epochs' = 30, yields accuracy score of 0.9754.\n",
        "one of the most significant benefits of 'RMSprop' optimizer is that studies shows it can help us converge faster than other optimization algorithms while using ANN. Another big benefit of this optimizer is it has adaptive learning rate: RMSprop automatically adjusts the learning rate for each parameter based on the historical gradient information. This can help the model converge faster and avoid getting stuck in local optima.\n",
        "\n"
      ],
      "metadata": {
        "id": "GZzgcoH7ggwk"
      }
    }
  ]
}
